{
 "cells": [
  {
   "cell_type": "code",
   "execution_count": 1,
   "id": "b525a9f2",
   "metadata": {},
   "outputs": [],
   "source": [
    "import os\n",
    "import gc\n",
    "import PIL\n",
    "import cv2\n",
    "import uuid\n",
    "import shutil\n",
    "import glob as gb\n",
    "import numpy as np\n",
    "import pandas as pd\n",
    "from tqdm import tqdm  # Progress bar\n",
    "import matplotlib.pyplot as plt\n",
    "%matplotlib inline\n",
    "\n",
    "\n",
    "import keras\n",
    "from sklearn.utils import shuffle\n",
    "from keras.optimizers import Adam\n",
    "from keras.regularizers import l1_l2\n",
    "from keras.utils import to_categorical\n",
    "from keras.callbacks import EarlyStopping\n",
    "from keras.models import Sequential, Model\n",
    "from keras.layers import Dense, Dropout, Input\n",
    "from keras.layers import GlobalAveragePooling2D\n",
    "from keras.callbacks import LearningRateScheduler\n",
    "from keras.layers import Conv2D, MaxPool2D, BatchNormalization\n",
    "from tensorflow.keras.preprocessing.image import ImageDataGenerator\n",
    "import random\n",
    "\n",
    "from sklearn.model_selection import train_test_split\n",
    "\n",
    "random.seed(100)"
   ]
  },
  {
   "cell_type": "code",
   "execution_count": 2,
   "id": "db91b9de",
   "metadata": {},
   "outputs": [],
   "source": [
    "dicom_df = pd.read_csv(\"C:/Users/AIMVLab/Desktop/flodo/CNN_Breast Cancer/CBIS-DDSM/csv/dicom_info.csv\")"
   ]
  },
  {
   "cell_type": "code",
   "execution_count": 3,
   "id": "b582f346",
   "metadata": {},
   "outputs": [
    {
     "data": {
      "text/plain": [
       "0     CBIS-DDSM/jpeg/1.3.6.1.4.1.9590.100.1.2.129308...\n",
       "3     CBIS-DDSM/jpeg/1.3.6.1.4.1.9590.100.1.2.381187...\n",
       "6     CBIS-DDSM/jpeg/1.3.6.1.4.1.9590.100.1.2.153339...\n",
       "7     CBIS-DDSM/jpeg/1.3.6.1.4.1.9590.100.1.2.178994...\n",
       "10    CBIS-DDSM/jpeg/1.3.6.1.4.1.9590.100.1.2.411833...\n",
       "Name: image_path, dtype: object"
      ]
     },
     "execution_count": 3,
     "metadata": {},
     "output_type": "execute_result"
    }
   ],
   "source": [
    "cropped_images = dicom_df[dicom_df.SeriesDescription==\"cropped images\"].image_path\n",
    "cropped_images.head()"
   ]
  },
  {
   "cell_type": "code",
   "execution_count": 4,
   "id": "872a14d0",
   "metadata": {},
   "outputs": [
    {
     "data": {
      "text/plain": [
       "1     CBIS-DDSM/jpeg/1.3.6.1.4.1.9590.100.1.2.248386...\n",
       "2     CBIS-DDSM/jpeg/1.3.6.1.4.1.9590.100.1.2.267213...\n",
       "11    CBIS-DDSM/jpeg/1.3.6.1.4.1.9590.100.1.2.210396...\n",
       "12    CBIS-DDSM/jpeg/1.3.6.1.4.1.9590.100.1.2.749566...\n",
       "15    CBIS-DDSM/jpeg/1.3.6.1.4.1.9590.100.1.2.987658...\n",
       "Name: image_path, dtype: object"
      ]
     },
     "execution_count": 4,
     "metadata": {},
     "output_type": "execute_result"
    }
   ],
   "source": [
    "full_mammogram = dicom_df[dicom_df.SeriesDescription==\"full mammogram images\"].image_path\n",
    "full_mammogram.head()"
   ]
  },
  {
   "cell_type": "code",
   "execution_count": 5,
   "id": "3082d595",
   "metadata": {},
   "outputs": [
    {
     "data": {
      "text/plain": [
       "5     CBIS-DDSM/jpeg/1.3.6.1.4.1.9590.100.1.2.153339...\n",
       "8     CBIS-DDSM/jpeg/1.3.6.1.4.1.9590.100.1.2.178994...\n",
       "9     CBIS-DDSM/jpeg/1.3.6.1.4.1.9590.100.1.2.411833...\n",
       "14    CBIS-DDSM/jpeg/1.3.6.1.4.1.9590.100.1.2.236373...\n",
       "20    CBIS-DDSM/jpeg/1.3.6.1.4.1.9590.100.1.2.357008...\n",
       "Name: image_path, dtype: object"
      ]
     },
     "execution_count": 5,
     "metadata": {},
     "output_type": "execute_result"
    }
   ],
   "source": [
    "roi_mask = dicom_df[dicom_df.SeriesDescription==\"ROI mask images\"].image_path\n",
    "roi_mask.head()"
   ]
  },
  {
   "cell_type": "code",
   "execution_count": 6,
   "id": "d8dc6a00",
   "metadata": {},
   "outputs": [],
   "source": [
    "def replace_path(sample, old_path, new_path):\n",
    "    return sample.replace(old_path, new_path, regex=True)"
   ]
  },
  {
   "cell_type": "code",
   "execution_count": 7,
   "id": "addfdb1a",
   "metadata": {},
   "outputs": [],
   "source": [
    "def plot_smaples(sample, row=15, col=15):\n",
    "    plt.figure(figsize=(row, col))\n",
    "    for i, file in enumerate(sample[0:5]):\n",
    "        cropped_images_show = PIL.Image.open(file)\n",
    "        gray_img= cropped_images_show.convert(\"L\")\n",
    "        plt.subplot(1,5,i+1)\n",
    "        plt.imshow(gray_img, cmap='gray')\n",
    "        plt.axis('off')\n",
    "    plt.show()"
   ]
  },
  {
   "cell_type": "code",
   "execution_count": 8,
   "id": "d434d803",
   "metadata": {},
   "outputs": [],
   "source": [
    "correct_dir = \"C:/Users/AIMVLab/Desktop/flodo/CNN_Breast Cancer/CBIS-DDSM/jpeg\""
   ]
  },
  {
   "cell_type": "code",
   "execution_count": 9,
   "id": "238b73ab",
   "metadata": {},
   "outputs": [
    {
     "name": "stdout",
     "output_type": "stream",
     "text": [
      "Cropped Images paths:\n",
      "C:/Users/AIMVLab/Desktop/flodo/CNN_Breast Cancer/CBIS-DDSM/jpeg/1.3.6.1.4.1.9590.100.1.2.129308726812851964007517874181459556304/1-172.jpg\n"
     ]
    }
   ],
   "source": [
    "cropped_images = replace_path(cropped_images, \"CBIS-DDSM/jpeg\", correct_dir)\n",
    "print('Cropped Images paths:')\n",
    "print(cropped_images.iloc[0])"
   ]
  },
  {
   "cell_type": "code",
   "execution_count": 10,
   "id": "945efecd",
   "metadata": {},
   "outputs": [
    {
     "name": "stdout",
     "output_type": "stream",
     "text": [
      "\n",
      "Full mammo Images paths:\n",
      "C:/Users/AIMVLab/Desktop/flodo/CNN_Breast Cancer/CBIS-DDSM/jpeg/1.3.6.1.4.1.9590.100.1.2.248386742010678582309005372213277814849/1-249.jpg\n"
     ]
    }
   ],
   "source": [
    "full_mammogram = replace_path(full_mammogram, \"CBIS-DDSM/jpeg\", correct_dir)\n",
    "print('\\nFull mammo Images paths:')\n",
    "print(full_mammogram.iloc[0])"
   ]
  },
  {
   "cell_type": "code",
   "execution_count": 11,
   "id": "cee89aa4",
   "metadata": {},
   "outputs": [
    {
     "name": "stdout",
     "output_type": "stream",
     "text": [
      "\n",
      "ROI Mask Images paths:\n",
      "C:/Users/AIMVLab/Desktop/flodo/CNN_Breast Cancer/CBIS-DDSM/jpeg/1.3.6.1.4.1.9590.100.1.2.153339052913121382622526066491844156138/2-270.jpg\n"
     ]
    }
   ],
   "source": [
    "roi_mask = replace_path(roi_mask, \"CBIS-DDSM/jpeg\", correct_dir)\n",
    "print('\\nROI Mask Images paths:')\n",
    "print(roi_mask.iloc[0])"
   ]
  },
  {
   "cell_type": "code",
   "execution_count": 12,
   "id": "bcafe188",
   "metadata": {},
   "outputs": [],
   "source": [
    "def get_image_file_name(data, new_dict):\n",
    "    \"\"\"\n",
    "    /kaggle\n",
    "    /input\n",
    "    /cbis-ddsm-breast-cancer-image-dataset\n",
    "    /jpeg\n",
    "    /1.3.6.1.4.1.9590.100.1.2.129308726812851964007517874181459556304 [5]\n",
    "    /1-172.jpg\n",
    "    \n",
    "    return path at index [9] after split depends on split('\\')\n",
    "    \"\"\"\n",
    "    for dicom in data:\n",
    "        key = dicom.split('/')[8]\n",
    "#         print(key)\n",
    "        new_dict[key] = dicom\n",
    "    print(f\"the length of dataset ==> {len(new_dict.keys())}\")"
   ]
  },
  {
   "cell_type": "code",
   "execution_count": 13,
   "id": "9011e63f",
   "metadata": {},
   "outputs": [
    {
     "name": "stdout",
     "output_type": "stream",
     "text": [
      "the length of dataset ==> 3567\n",
      "the length of dataset ==> 2857\n",
      "the length of dataset ==> 3247\n"
     ]
    }
   ],
   "source": [
    "cropped_images_dict = dict()\n",
    "full_mammo_dict = dict()\n",
    "roi_img_dict = dict()\n",
    "\n",
    "get_image_file_name(cropped_images, cropped_images_dict)\n",
    "get_image_file_name(full_mammogram, full_mammo_dict)\n",
    "get_image_file_name(roi_mask, roi_img_dict)"
   ]
  },
  {
   "cell_type": "code",
   "execution_count": 14,
   "id": "c02fbf4d",
   "metadata": {},
   "outputs": [],
   "source": [
    "def fix_image_path(data):\n",
    "    \"\"\"Correct dicom paths to correct image paths.\"\"\"\n",
    "    for indx, image in enumerate(data.values):\n",
    "#         print(f\"Image Path: {image[11]}\")\n",
    "\n",
    "        img_name = image[11].split('/')[2]\n",
    "#         print(f\"Looking for key: {img_name}\")  # Debugging step\n",
    "\n",
    "        if img_name in full_mammo_dict:\n",
    "            data.iloc[indx, 11] = full_mammo_dict[img_name]\n",
    "        else:\n",
    "            data.iloc[indx, 11] = None\n",
    "#             print(f\"KeyError: '{img_name}' not found in full_mammo_dict\")  # Debugging step\n",
    "        \n",
    "        img_name = image[12].split('/')[2]\n",
    "        if img_name in cropped_images_dict:\n",
    "            data.iloc[indx, 12] = cropped_images_dict[img_name]\n",
    "        else:\n",
    "            data.iloc[indx, 12] = None\n",
    "#             print(f\"KeyError: '{img_name}' not found in cropped_images_dict\")  # Debugging step"
   ]
  },
  {
   "cell_type": "code",
   "execution_count": 15,
   "id": "1e1ea7c0",
   "metadata": {},
   "outputs": [],
   "source": [
    "mass_train = pd.read_csv(\"C:/Users/AIMVLab/Desktop/flodo/CNN_Breast Cancer/CBIS-DDSM/csv/mass_case_description_train_set.csv\")\n",
    "mass_test  = pd.read_csv(\"C:/Users/AIMVLab/Desktop/flodo/CNN_Breast Cancer/CBIS-DDSM/csv/mass_case_description_test_set.csv\")"
   ]
  },
  {
   "cell_type": "code",
   "execution_count": 16,
   "id": "6112f792",
   "metadata": {},
   "outputs": [],
   "source": [
    "fix_image_path(mass_train)"
   ]
  },
  {
   "cell_type": "code",
   "execution_count": 17,
   "id": "88d83817",
   "metadata": {},
   "outputs": [],
   "source": [
    "mass_train = mass_train.rename(columns={'left or right breast': 'left_or_right_breast',\n",
    "                                        'image view': 'image_view',\n",
    "                                        'abnormality id': 'abnormality_id',\n",
    "                                        'abnormality type': 'abnormality_type',\n",
    "                                        'mass shape': 'mass_shape',\n",
    "                                        'mass margins': 'mass_margins',\n",
    "                                        'image file path': 'image_file_path',\n",
    "                                        'cropped image file path': 'cropped_image_file_path',\n",
    "                                        'ROI mask file path': 'ROI_mask_file_path'})\n"
   ]
  },
  {
   "cell_type": "code",
   "execution_count": 18,
   "id": "3e5a17ff",
   "metadata": {},
   "outputs": [],
   "source": [
    "fix_image_path(mass_test)"
   ]
  },
  {
   "cell_type": "code",
   "execution_count": 19,
   "id": "d7713f6d",
   "metadata": {},
   "outputs": [],
   "source": [
    "mass_test = mass_test.rename(columns={'left or right breast': 'left_or_right_breast',\n",
    "                                      'image view': 'image_view',\n",
    "                                      'abnormality id': 'abnormality_id',\n",
    "                                      'abnormality type': 'abnormality_type',\n",
    "                                      'mass shape': 'mass_shape',\n",
    "                                      'mass margins': 'mass_margins',\n",
    "                                      'image file path': 'image_file_path',\n",
    "                                      'cropped image file path': 'cropped_image_file_path',\n",
    "                                      'ROI mask file path': 'ROI_mask_file_path'})\n",
    "\n"
   ]
  },
  {
   "cell_type": "code",
   "execution_count": 20,
   "id": "70013574",
   "metadata": {},
   "outputs": [
    {
     "name": "stdout",
     "output_type": "stream",
     "text": [
      "Shape of mass_train: (1318, 14)\n",
      "Shape of mass_test: (378, 14)\n"
     ]
    }
   ],
   "source": [
    "print(f'Shape of mass_train: {mass_train.shape}')\n",
    "print(f'Shape of mass_test: {mass_test.shape}')"
   ]
  },
  {
   "cell_type": "code",
   "execution_count": 21,
   "id": "18f4dcb7",
   "metadata": {},
   "outputs": [],
   "source": [
    "calc_train = pd.read_csv(\"C:/Users/AIMVLab/Desktop/flodo/CNN_Breast Cancer/CBIS-DDSM/csv/calc_case_description_train_set.csv\")\n",
    "calc_test  = pd.read_csv(\"C:/Users/AIMVLab/Desktop/flodo/CNN_Breast Cancer/CBIS-DDSM/csv/calc_case_description_test_set.csv\")"
   ]
  },
  {
   "cell_type": "code",
   "execution_count": 22,
   "id": "03e044d9",
   "metadata": {},
   "outputs": [],
   "source": [
    "calc_train = calc_train.rename(columns={'left or right breast': 'left_or_right_breast',\n",
    "                                        'image view': 'image_view',\n",
    "                                        'abnormality id': 'abnormality_id',\n",
    "                                        'abnormality type': 'abnormality_type',\n",
    "                                        'mass shape': 'mass_shape',\n",
    "                                        'mass margins': 'mass_margins',\n",
    "                                        'image file path': 'image_file_path',\n",
    "                                        'cropped image file path': 'cropped_image_file_path',\n",
    "                                        'ROI mask file path': 'ROI_mask_file_path'})"
   ]
  },
  {
   "cell_type": "code",
   "execution_count": 23,
   "id": "e2a4409e",
   "metadata": {},
   "outputs": [],
   "source": [
    "fix_image_path(calc_train)"
   ]
  },
  {
   "cell_type": "code",
   "execution_count": 24,
   "id": "7614b822",
   "metadata": {},
   "outputs": [],
   "source": [
    "calc_test = calc_test.rename(columns={'left or right breast': 'left_or_right_breast',\n",
    "                                      'image view': 'image_view',\n",
    "                                      'abnormality id': 'abnormality_id',\n",
    "                                      'abnormality type': 'abnormality_type',\n",
    "                                      'mass shape': 'mass_shape',\n",
    "                                      'mass margins': 'mass_margins',\n",
    "                                      'image file path': 'image_file_path',\n",
    "                                      'cropped image file path': 'cropped_image_file_path',\n",
    "                                      'ROI mask file path': 'ROI_mask_file_path'})"
   ]
  },
  {
   "cell_type": "code",
   "execution_count": 25,
   "id": "63fa1690",
   "metadata": {},
   "outputs": [],
   "source": [
    "fix_image_path(calc_test)"
   ]
  },
  {
   "cell_type": "code",
   "execution_count": 26,
   "id": "cbd11fe0",
   "metadata": {},
   "outputs": [
    {
     "name": "stdout",
     "output_type": "stream",
     "text": [
      "Shape of mass_train: (1546, 14)\n",
      "Shape of mass_test: (326, 14)\n"
     ]
    }
   ],
   "source": [
    "print(f'Shape of mass_train: {calc_train.shape}')\n",
    "print(f'Shape of mass_test: {calc_test.shape}')"
   ]
  },
  {
   "cell_type": "code",
   "execution_count": 27,
   "id": "c065e901",
   "metadata": {},
   "outputs": [],
   "source": [
    "full_dataset = pd.concat([mass_train, mass_test, calc_train, calc_test], axis=0)"
   ]
  },
  {
   "cell_type": "code",
   "execution_count": 28,
   "id": "2514e865",
   "metadata": {},
   "outputs": [],
   "source": [
    "class_mapper = {'MALIGNANT': 1, 'BENIGN': 0, 'BENIGN_WITHOUT_CALLBACK': 0} "
   ]
  },
  {
   "cell_type": "code",
   "execution_count": 29,
   "id": "ae9c3723",
   "metadata": {},
   "outputs": [],
   "source": [
    "target_size = (224, 224, 3)"
   ]
  },
  {
   "cell_type": "code",
   "execution_count": 30,
   "id": "c1c18958",
   "metadata": {},
   "outputs": [
    {
     "name": "stderr",
     "output_type": "stream",
     "text": [
      "C:\\Users\\AIMVLab\\AppData\\Local\\Temp\\ipykernel_65920\\614134976.py:2: FutureWarning: Downcasting behavior in `replace` is deprecated and will be removed in a future version. To retain the old behavior, explicitly call `result.infer_objects(copy=False)`. To opt-in to the future behavior, set `pd.set_option('future.no_silent_downcasting', True)`\n",
      "  full_dataset['labels'] = full_dataset['pathology'].replace(class_mapper).infer_objects(copy=False)\n"
     ]
    }
   ],
   "source": [
    "# Apply class mapper to pathology column\n",
    "full_dataset['labels'] = full_dataset['pathology'].replace(class_mapper).infer_objects(copy=False)\n",
    "\n",
    "full_images = np.array(full_dataset[full_dataset[\"image_file_path\"].notna()][\"image_file_path\"].tolist())\n",
    "full_labels = np.array(full_dataset[full_dataset[\"image_file_path\"].notna()][\"labels\"].tolist())"
   ]
  },
  {
   "cell_type": "code",
   "execution_count": 31,
   "id": "260d3c43",
   "metadata": {},
   "outputs": [
    {
     "data": {
      "text/plain": [
       "2"
      ]
     },
     "execution_count": 31,
     "metadata": {},
     "output_type": "execute_result"
    }
   ],
   "source": [
    "num_classes = len(full_dataset['labels'].unique())\n",
    "num_classes"
   ]
  },
  {
   "cell_type": "code",
   "execution_count": 32,
   "id": "15514d86",
   "metadata": {},
   "outputs": [],
   "source": [
    "class_names = ['Benign', 'Malignant']"
   ]
  },
  {
   "cell_type": "code",
   "execution_count": 33,
   "id": "dffd5244",
   "metadata": {},
   "outputs": [
    {
     "name": "stdout",
     "output_type": "stream",
     "text": [
      "labels\n",
      "0    2111\n",
      "1    1457\n",
      "Name: count, dtype: int64\n"
     ]
    }
   ],
   "source": [
    "# Check the distribution of labels\n",
    "label_counts = full_dataset['labels'].value_counts()\n",
    "print(label_counts)"
   ]
  },
  {
   "cell_type": "code",
   "execution_count": 34,
   "id": "217d1f26",
   "metadata": {},
   "outputs": [],
   "source": [
    "def copy_images_with_unique_filenames(source_images, source_labels, destination_dir):\n",
    "    \"\"\"\n",
    "    Copy images from source to destination_dir in subfolders '0' and '1', ensuring unique filenames.\n",
    "    \"\"\"\n",
    "    benign_images = 0\n",
    "    malignant_images = 0\n",
    "    skipped_images = []\n",
    "\n",
    "    # Create the destination subfolders '0' and '1'\n",
    "    category_dest_dir_zero = os.path.join(destination_dir, '0')\n",
    "    os.makedirs(category_dest_dir_zero, exist_ok=True)\n",
    "    \n",
    "    category_dest_dir_one = os.path.join(destination_dir, '1')\n",
    "    os.makedirs(category_dest_dir_one, exist_ok=True)\n",
    "\n",
    "    # Copy all images to the appropriate folder based on the label\n",
    "    for idx, (source, label) in enumerate(zip(source_images, source_labels)):\n",
    "        if os.path.exists(source):\n",
    "            try:\n",
    "                # Generate a unique filename\n",
    "                filename = os.path.basename(source)\n",
    "                unique_filename = f\"{uuid.uuid4().hex}_{filename}\"\n",
    "                \n",
    "                if label == 0:\n",
    "                    shutil.copy(source, os.path.join(category_dest_dir_zero, unique_filename))\n",
    "                    benign_images += 1\n",
    "                elif label == 1:\n",
    "                    shutil.copy(source, os.path.join(category_dest_dir_one, unique_filename))\n",
    "                    malignant_images += 1\n",
    "                \n",
    "#                 print(f\"Copied image {idx + 1}/{len(source_images)} to class {label}\")\n",
    "            except Exception as e:\n",
    "                print(f\"Error copying image {source}: {e}\")\n",
    "                skipped_images.append(source)\n",
    "        else:\n",
    "            print(f\"Image not found: {source}\")\n",
    "            skipped_images.append(source)\n",
    "\n",
    "    # After running the function\n",
    "    print(f\"\\nCopying complete.\")\n",
    "    print(f\"Benign images copied (label 0): {benign_images}\")\n",
    "    print(f\"Malignant images copied (label 1): {malignant_images}\")\n",
    "    print(f\"Total skipped images: {len(skipped_images)}\")\n",
    "    if skipped_images:\n",
    "        print(\"Skipped images:\")\n",
    "        for img in skipped_images:\n",
    "            print(img)"
   ]
  },
  {
   "cell_type": "code",
   "execution_count": 35,
   "id": "ad9739ba",
   "metadata": {},
   "outputs": [
    {
     "name": "stdout",
     "output_type": "stream",
     "text": [
      "\n",
      "Copying complete.\n",
      "Benign images copied (label 0): 1931\n",
      "Malignant images copied (label 1): 1355\n",
      "Total skipped images: 0\n"
     ]
    }
   ],
   "source": [
    "destination_dir = \"D:/OKPALA/CNN_Breast Cancer/CBIS-DDSM/marged_images\"  # Update this path as needed\n",
    "\n",
    "copy_images_with_unique_filenames(full_images, full_labels, destination_dir)"
   ]
  },
  {
   "cell_type": "code",
   "execution_count": 36,
   "id": "2c02945e",
   "metadata": {},
   "outputs": [],
   "source": [
    "def copy_images_to_destination(source_dir, destination_dir):\n",
    "    \"\"\"\n",
    "    Move or copy images from source_dir to destination_dir in subfolders '0' and '1'.\n",
    "    \"\"\"\n",
    "    # Define the categories (class labels) as '0' and '1'\n",
    "    categories = ['0', '1']\n",
    "    \n",
    "    for category in categories:\n",
    "        # Create the destination subfolder (e.g., '0' or '1') if it doesn't exist\n",
    "        category_dest_dir = os.path.join(destination_dir, category)\n",
    "        os.makedirs(category_dest_dir, exist_ok=True)\n",
    "        \n",
    "        # Path to the current category folder in the source directory\n",
    "        category_source_dir = os.path.join(source_dir, category)\n",
    "        \n",
    "        # Move or copy all images from the source category folder to the destination folder\n",
    "        for img_name in os.listdir(category_source_dir):\n",
    "            # Construct full file paths\n",
    "            img_source_path = os.path.join(category_source_dir, img_name)\n",
    "            img_dest_path = os.path.join(category_dest_dir, img_name)\n",
    "            \n",
    "            # Copy the image to the destination folder (you can use shutil.move to move instead of copy)\n",
    "            shutil.copy(img_source_path, img_dest_path)\n",
    "            \n",
    "            # Optionally, print the status\n",
    "#             print(f\"Copied {img_source_path} to {img_dest_path}\")\n"
   ]
  },
  {
   "cell_type": "code",
   "execution_count": 37,
   "id": "22131027",
   "metadata": {},
   "outputs": [],
   "source": [
    "# Define the paths to your dataset folders\n",
    "test = \"D:/Downloads/archive/test\"\n",
    "train = \"D:/Downloads/archive/train\"\n",
    "valid = \"D:/Downloads/archive/valid\"\n",
    "\n",
    "# Destination directory for the unified dataset\n",
    "destination_dir = \"D:/OKPALA/CNN_Breast Cancer/CBIS-DDSM/marged_images\"  # Update this path as needed"
   ]
  },
  {
   "cell_type": "code",
   "execution_count": 38,
   "id": "c03630a7",
   "metadata": {},
   "outputs": [],
   "source": [
    "# Apply the function to each of the dataset folders (test, train, valid)\n",
    "copy_images_to_destination(test, destination_dir)\n",
    "copy_images_to_destination(train, destination_dir)\n",
    "copy_images_to_destination(valid, destination_dir)"
   ]
  },
  {
   "cell_type": "code",
   "execution_count": 39,
   "id": "af67a43d",
   "metadata": {},
   "outputs": [],
   "source": [
    "def image_processor(image_path, target_size):\n",
    "    \"\"\"Preprocess images for CNN model\"\"\"\n",
    "    if image_path:\n",
    "#         absolute_image_path = os.path.abspath(image_path)\n",
    "        image = cv2.imread(image_path)\n",
    "        \n",
    "        # Check if the image was loaded successfully\n",
    "        if image is None:\n",
    "#             print(f\"Warning: Failed to load image at {absolute_image_path}. Skipping this file.\")\n",
    "            return None\n",
    "\n",
    "        # Resize the image and normalize it\n",
    "        image = cv2.resize(image, (target_size[0], target_size[1]))\n",
    "        image_array = image / 255.0  # Normalize the image to range [0, 1]\n",
    "        return image_array\n",
    "    else:\n",
    "        return None"
   ]
  },
  {
   "cell_type": "code",
   "execution_count": 40,
   "id": "4fb37b6b",
   "metadata": {},
   "outputs": [],
   "source": [
    "path_zero = 'D:/OKPALA/CNN_Breast Cancer/CBIS-DDSM/marged_images/0'\n",
    "path_one  = 'D:/OKPALA/CNN_Breast Cancer/CBIS-DDSM/marged_images/1'\n",
    "\n",
    "# Preprocess and collect images and labels\n",
    "benign_images = np.array([image_processor(os.path.join(path_zero, x), (224, 224)) for x in os.listdir(path_zero)])\n",
    "benign_labels = np.array([0] * len(benign_images))  # Label 0 for benign\n",
    "\n",
    "malignant_images = np.array([image_processor(os.path.join(path_one, x), (224, 224)) for x in os.listdir(path_one)])\n",
    "malignant_labels = np.array([1] * len(malignant_images))  # Label 1 for malignant"
   ]
  },
  {
   "cell_type": "code",
   "execution_count": 41,
   "id": "2c76a4c5",
   "metadata": {},
   "outputs": [
    {
     "name": "stdout",
     "output_type": "stream",
     "text": [
      "The Count of 0 is: (8018, 224, 224, 3)\n",
      "\n",
      "The count of 0 label is: (8018,)\n",
      "\n",
      "The count of 1 is: (5223, 224, 224, 3)\n",
      "\n",
      "The count of 1 label is: (5223,)\n"
     ]
    }
   ],
   "source": [
    "print(f\"The Count of 0 is: {benign_images.shape}\")\n",
    "print()\n",
    "print(f\"The count of 0 label is: {benign_labels.shape}\")\n",
    "print()\n",
    "print(f\"The count of 1 is: {malignant_images.shape}\")\n",
    "print()\n",
    "print(f\"The count of 1 label is: {malignant_labels.shape}\")"
   ]
  },
  {
   "cell_type": "code",
   "execution_count": 42,
   "id": "9a683c1e",
   "metadata": {},
   "outputs": [
    {
     "name": "stdout",
     "output_type": "stream",
     "text": [
      "Preprocessing complete. Images and labels combined.\n"
     ]
    }
   ],
   "source": [
    "# Concatenate images and labels\n",
    "full_images = np.concatenate([benign_images, malignant_images])\n",
    "full_labels = np.concatenate([benign_labels, malignant_labels])\n",
    "print(\"Preprocessing complete. Images and labels combined.\")"
   ]
  },
  {
   "cell_type": "code",
   "execution_count": 43,
   "id": "f5019007",
   "metadata": {},
   "outputs": [],
   "source": [
    "# Shuffle the dataset (images and labels in unison)\n",
    "full_images, full_labels = shuffle(full_images, full_labels, random_state=42)"
   ]
  },
  {
   "cell_type": "code",
   "execution_count": 44,
   "id": "544b6cef",
   "metadata": {},
   "outputs": [],
   "source": [
    "train_images, valid_images, train_labels, valid_labels = train_test_split(full_images, full_labels,test_size=0.2,random_state=40)\n",
    "valid_images, test_images, valid_labels, test_labels = train_test_split(valid_images, valid_labels,test_size=0.5,random_state=40)"
   ]
  },
  {
   "cell_type": "code",
   "execution_count": 45,
   "id": "0d3c0632",
   "metadata": {},
   "outputs": [
    {
     "name": "stdout",
     "output_type": "stream",
     "text": [
      "Train:\n",
      "(10592, 224, 224, 3)\n",
      "(10592,)\n",
      "Valid:\n",
      "(1324, 224, 224, 3)\n",
      "(1324,)\n",
      "Test:\n",
      "(1325, 224, 224, 3)\n",
      "(1325,)\n"
     ]
    }
   ],
   "source": [
    "print(\"Train:\")\n",
    "print(train_images.shape)\n",
    "print(train_labels.shape)\n",
    "print(\"Valid:\")\n",
    "print(valid_images.shape)\n",
    "print(valid_labels.shape)\n",
    "print(\"Test:\")\n",
    "print(test_images.shape)\n",
    "print(test_labels.shape)"
   ]
  },
  {
   "cell_type": "code",
   "execution_count": 46,
   "id": "8445fef8",
   "metadata": {},
   "outputs": [
    {
     "data": {
      "image/png": "[encoded data removed]",
      "text/plain": [
       "<Figure size 640x480 with 1 Axes>"
      ]
     },
     "metadata": {},
     "output_type": "display_data"
    }
   ],
   "source": [
    "plt.imshow(train_images[10])\n",
    "plt.show()"
   ]
  },
  {
   "cell_type": "code",
   "execution_count": 47,
   "id": "2440b60d",
   "metadata": {},
   "outputs": [],
   "source": [
    "num_classes = 2\n",
    "\n",
    "train_labels = to_categorical(train_labels, num_classes)\n",
    "test_labels  = to_categorical(test_labels, num_classes)\n",
    "valid_labels = to_categorical(valid_labels, num_classes)"
   ]
  },
  {
   "cell_type": "code",
   "execution_count": null,
   "id": "45aa2d6b",
   "metadata": {},
   "outputs": [],
   "source": []
  },
  {
   "cell_type": "code",
   "execution_count": null,
   "id": "b53e5a9f",
   "metadata": {},
   "outputs": [],
   "source": []
  },
  {
   "cell_type": "code",
   "execution_count": null,
   "id": "82eead10",
   "metadata": {},
   "outputs": [],
   "source": []
  },
  {
   "cell_type": "code",
   "execution_count": null,
   "id": "71bb77c7",
   "metadata": {},
   "outputs": [],
   "source": []
  },
  {
   "cell_type": "code",
   "execution_count": null,
   "id": "0f497452",
   "metadata": {},
   "outputs": [],
   "source": []
  },
  {
   "cell_type": "code",
   "execution_count": null,
   "id": "30e6332a",
   "metadata": {},
   "outputs": [],
   "source": []
  },
  {
   "cell_type": "code",
   "execution_count": 48,
   "id": "ccea5a04",
   "metadata": {},
   "outputs": [
    {
     "name": "stdout",
     "output_type": "stream",
     "text": [
      "Model: \"model\"\n",
      "_________________________________________________________________\n",
      " Layer (type)                Output Shape              Param #   \n",
      "=================================================================\n",
      " input_1 (InputLayer)        [(None, 224, 224, 3)]     0         \n",
      "                                                                 \n",
      " conv2d (Conv2D)             (None, 224, 224, 32)      896       \n",
      "                                                                 \n",
      " conv2d_1 (Conv2D)           (None, 224, 224, 32)      9248      \n",
      "                                                                 \n",
      " batch_normalization (BatchN  (None, 224, 224, 32)     128       \n",
      " ormalization)                                                   \n",
      "                                                                 \n",
      " max_pooling2d (MaxPooling2D  (None, 112, 112, 32)     0         \n",
      " )                                                               \n",
      "                                                                 \n",
      " dropout (Dropout)           (None, 112, 112, 32)      0         \n",
      "                                                                 \n",
      " conv2d_2 (Conv2D)           (None, 112, 112, 64)      18496     \n",
      "                                                                 \n",
      " conv2d_3 (Conv2D)           (None, 112, 112, 64)      36928     \n",
      "                                                                 \n",
      " batch_normalization_1 (Batc  (None, 112, 112, 64)     256       \n",
      " hNormalization)                                                 \n",
      "                                                                 \n",
      " max_pooling2d_1 (MaxPooling  (None, 56, 56, 64)       0         \n",
      " 2D)                                                             \n",
      "                                                                 \n",
      " dropout_1 (Dropout)         (None, 56, 56, 64)        0         \n",
      "                                                                 \n",
      " conv2d_4 (Conv2D)           (None, 56, 56, 128)       73856     \n",
      "                                                                 \n",
      " conv2d_5 (Conv2D)           (None, 56, 56, 128)       147584    \n",
      "                                                                 \n",
      " batch_normalization_2 (Batc  (None, 56, 56, 128)      512       \n",
      " hNormalization)                                                 \n",
      "                                                                 \n",
      " max_pooling2d_2 (MaxPooling  (None, 28, 28, 128)      0         \n",
      " 2D)                                                             \n",
      "                                                                 \n",
      " dropout_2 (Dropout)         (None, 28, 28, 128)       0         \n",
      "                                                                 \n",
      " conv2d_6 (Conv2D)           (None, 28, 28, 128)       147584    \n",
      "                                                                 \n",
      " conv2d_7 (Conv2D)           (None, 28, 28, 128)       147584    \n",
      "                                                                 \n",
      " batch_normalization_3 (Batc  (None, 28, 28, 128)      512       \n",
      " hNormalization)                                                 \n",
      "                                                                 \n",
      " max_pooling2d_3 (MaxPooling  (None, 14, 14, 128)      0         \n",
      " 2D)                                                             \n",
      "                                                                 \n",
      " dropout_3 (Dropout)         (None, 14, 14, 128)       0         \n",
      "                                                                 \n",
      " flatten (Flatten)           (None, 25088)             0         \n",
      "                                                                 \n",
      " dense (Dense)               (None, 128)               3211392   \n",
      "                                                                 \n",
      " dropout_4 (Dropout)         (None, 128)               0         \n",
      "                                                                 \n",
      " dense_1 (Dense)             (None, 2)                 258       \n",
      "                                                                 \n",
      "=================================================================\n",
      "Total params: 3,795,234\n",
      "Trainable params: 3,794,530\n",
      "Non-trainable params: 704\n",
      "_________________________________________________________________\n"
     ]
    }
   ],
   "source": [
    "import tensorflow as tf\n",
    "#Model Archiecture\n",
    "# num_classes = y_train.shape[1] * y_train.shape[2]\n",
    "#input layer\n",
    "inputs = tf.keras.Input(shape=(train_images.shape[1], train_images.shape[2], train_images.shape[3]))\n",
    "x = inputs\n",
    "\n",
    "# Convolutional Block\n",
    "for filters in [32, 64, 128, 128]:\n",
    "    x = tf.keras.layers.Conv2D(filters, kernel_size=3, padding=\"same\", activation=\"relu\",)(x)\n",
    "    x = tf.keras.layers.Conv2D(filters, kernel_size=3, padding=\"same\", activation=\"relu\",)(x)\n",
    "    x = tf.keras.layers.BatchNormalization()(x)\n",
    "    x = tf.keras.layers.MaxPooling2D(pool_size=(2,2))(x)\n",
    "    x = tf.keras.layers.Dropout(0.2)(x)\n",
    "    \n",
    "#fully Connected layer\n",
    "x = tf.keras.layers.Flatten()(x)\n",
    "# x = tf.keras.layers.GlobalMaxPooling1D()(x)\n",
    "# x = tf.keras.layers.Dense(128, activation=\"relu\", kernel_regularizer=l2(0.03))(x)\n",
    "# x = tf.keras.layers.Dropout(0.5)(x)\n",
    "x = tf.keras.layers.Dense(128, activation=\"relu\")(x)\n",
    "x = tf.keras.layers.Dropout(0.5)(x)\n",
    "\n",
    "#output layer\n",
    "outputs = tf.keras.layers.Dense(2, activation=\"softmax\")(x)\n",
    "\n",
    "model = tf.keras.models.Model(inputs=inputs, outputs=outputs)\n",
    "model.summary()"
   ]
  },
  {
   "cell_type": "code",
   "execution_count": 49,
   "id": "ec610ae4",
   "metadata": {},
   "outputs": [],
   "source": [
    "import datetime\n",
    "# Compile the model\n",
    "model.compile(optimizer=tf.keras.optimizers.Adam(learning_rate=0.0001), loss=tf.losses.BinaryCrossentropy(), metrics=[\"accuracy\",\"top_k_categorical_accuracy\"])\n",
    "\n",
    "model_folder =\"D:\\\\OKPALA\\\\trained_model\"\n",
    "# csv_path = os.path.join(\"files\", \"log.csv\")\n",
    "timestamp = datetime.datetime.now().strftime(\"%Y%m%d-%H%M%S\")\n",
    "\n",
    "# Define the callbacks\n",
    "callbacks = [\n",
    "    tf.keras.callbacks.ModelCheckpoint(f'{model_folder}/Breast_cancer_model_{timestamp}.keras', monitor=\"val_loss\", verbose=1, save_best_only=True),\n",
    "    tf.keras.callbacks.ReduceLROnPlateau(monitor=\"val_loss\", factor=0.1, patience=5, min_lr=1e-7),\n",
    "    # tf.keras.callbacks.CSVLogger(csv_path),\n",
    "    tf.keras.callbacks.EarlyStopping(monitor=\"val_loss\", patience=10, restore_best_weights=False)\n",
    "]\n",
    "\n",
    "# # Define the number of validation steps\n",
    "# steps_per_epoch = len(image_paths_train) // BATCH_SIZE\n",
    "# validation_steps = len(image_paths_val) // BATCH_SIZE\n"
   ]
  },
  {
   "cell_type": "code",
   "execution_count": 50,
   "id": "d45dcf93",
   "metadata": {},
   "outputs": [
    {
     "name": "stdout",
     "output_type": "stream",
     "text": [
      "Epoch 1/1000\n",
      "331/331 [==============================] - ETA: 0s - loss: 0.6966 - accuracy: 0.6056 - top_k_categorical_accuracy: 1.0000\n",
      "Epoch 1: val_loss improved from inf to 2.85605, saving model to D:\\OKPALA\\trained_model\\Breast_cancer_model_20241007-123948.keras\n",
      "331/331 [==============================] - 60s 97ms/step - loss: 0.6966 - accuracy: 0.6056 - top_k_categorical_accuracy: 1.0000 - val_loss: 2.8560 - val_accuracy: 0.5838 - val_top_k_categorical_accuracy: 1.0000 - lr: 1.0000e-04\n",
      "Epoch 2/1000\n",
      "331/331 [==============================] - ETA: 0s - loss: 0.6329 - accuracy: 0.6335 - top_k_categorical_accuracy: 1.0000\n",
      "Epoch 2: val_loss improved from 2.85605 to 2.03729, saving model to D:\\OKPALA\\trained_model\\Breast_cancer_model_20241007-123948.keras\n",
      "331/331 [==============================] - 21s 63ms/step - loss: 0.6329 - accuracy: 0.6335 - top_k_categorical_accuracy: 1.0000 - val_loss: 2.0373 - val_accuracy: 0.6005 - val_top_k_categorical_accuracy: 1.0000 - lr: 1.0000e-04\n",
      "Epoch 3/1000\n",
      "331/331 [==============================] - ETA: 0s - loss: 0.6183 - accuracy: 0.6387 - top_k_categorical_accuracy: 1.0000\n",
      "Epoch 3: val_loss improved from 2.03729 to 1.73490, saving model to D:\\OKPALA\\trained_model\\Breast_cancer_model_20241007-123948.keras\n",
      "331/331 [==============================] - 21s 64ms/step - loss: 0.6183 - accuracy: 0.6387 - top_k_categorical_accuracy: 1.0000 - val_loss: 1.7349 - val_accuracy: 0.5929 - val_top_k_categorical_accuracy: 1.0000 - lr: 1.0000e-04\n",
      "Epoch 4/1000\n",
      "331/331 [==============================] - ETA: 0s - loss: 0.6007 - accuracy: 0.6497 - top_k_categorical_accuracy: 1.0000\n",
      "Epoch 4: val_loss improved from 1.73490 to 1.30975, saving model to D:\\OKPALA\\trained_model\\Breast_cancer_model_20241007-123948.keras\n",
      "331/331 [==============================] - 21s 63ms/step - loss: 0.6007 - accuracy: 0.6497 - top_k_categorical_accuracy: 1.0000 - val_loss: 1.3097 - val_accuracy: 0.6027 - val_top_k_categorical_accuracy: 1.0000 - lr: 1.0000e-04\n",
      "Epoch 5/1000\n",
      "330/331 [============================>.] - ETA: 0s - loss: 0.5835 - accuracy: 0.6562 - top_k_categorical_accuracy: 1.0000\n",
      "Epoch 5: val_loss did not improve from 1.30975\n",
      "331/331 [==============================] - 21s 62ms/step - loss: 0.5835 - accuracy: 0.6561 - top_k_categorical_accuracy: 1.0000 - val_loss: 2.2311 - val_accuracy: 0.6118 - val_top_k_categorical_accuracy: 1.0000 - lr: 1.0000e-04\n",
      "Epoch 6/1000\n",
      "331/331 [==============================] - ETA: 0s - loss: 0.5645 - accuracy: 0.6703 - top_k_categorical_accuracy: 1.0000\n",
      "Epoch 6: val_loss did not improve from 1.30975\n",
      "331/331 [==============================] - 21s 63ms/step - loss: 0.5645 - accuracy: 0.6703 - top_k_categorical_accuracy: 1.0000 - val_loss: 1.8936 - val_accuracy: 0.6337 - val_top_k_categorical_accuracy: 1.0000 - lr: 1.0000e-04\n",
      "Epoch 7/1000\n",
      "331/331 [==============================] - ETA: 0s - loss: 0.5416 - accuracy: 0.6952 - top_k_categorical_accuracy: 1.0000\n",
      "Epoch 7: val_loss did not improve from 1.30975\n",
      "331/331 [==============================] - 21s 63ms/step - loss: 0.5416 - accuracy: 0.6952 - top_k_categorical_accuracy: 1.0000 - val_loss: 1.6533 - val_accuracy: 0.5989 - val_top_k_categorical_accuracy: 1.0000 - lr: 1.0000e-04\n",
      "Epoch 8/1000\n",
      "331/331 [==============================] - ETA: 0s - loss: 0.5277 - accuracy: 0.7035 - top_k_categorical_accuracy: 1.0000\n",
      "Epoch 8: val_loss did not improve from 1.30975\n",
      "331/331 [==============================] - 21s 63ms/step - loss: 0.5277 - accuracy: 0.7035 - top_k_categorical_accuracy: 1.0000 - val_loss: 1.5355 - val_accuracy: 0.6231 - val_top_k_categorical_accuracy: 1.0000 - lr: 1.0000e-04\n",
      "Epoch 9/1000\n",
      "331/331 [==============================] - ETA: 0s - loss: 0.5077 - accuracy: 0.7166 - top_k_categorical_accuracy: 1.0000\n",
      "Epoch 9: val_loss improved from 1.30975 to 1.23158, saving model to D:\\OKPALA\\trained_model\\Breast_cancer_model_20241007-123948.keras\n",
      "331/331 [==============================] - 21s 63ms/step - loss: 0.5077 - accuracy: 0.7166 - top_k_categorical_accuracy: 1.0000 - val_loss: 1.2316 - val_accuracy: 0.6488 - val_top_k_categorical_accuracy: 1.0000 - lr: 1.0000e-04\n",
      "Epoch 10/1000\n",
      "331/331 [==============================] - ETA: 0s - loss: 0.4851 - accuracy: 0.7313 - top_k_categorical_accuracy: 1.0000\n",
      "Epoch 10: val_loss improved from 1.23158 to 1.05649, saving model to D:\\OKPALA\\trained_model\\Breast_cancer_model_20241007-123948.keras\n",
      "331/331 [==============================] - 21s 63ms/step - loss: 0.4851 - accuracy: 0.7313 - top_k_categorical_accuracy: 1.0000 - val_loss: 1.0565 - val_accuracy: 0.6707 - val_top_k_categorical_accuracy: 1.0000 - lr: 1.0000e-04\n",
      "Epoch 11/1000\n",
      "331/331 [==============================] - ETA: 0s - loss: 0.4658 - accuracy: 0.7497 - top_k_categorical_accuracy: 1.0000\n",
      "Epoch 11: val_loss improved from 1.05649 to 0.61182, saving model to D:\\OKPALA\\trained_model\\Breast_cancer_model_20241007-123948.keras\n",
      "331/331 [==============================] - 21s 63ms/step - loss: 0.4658 - accuracy: 0.7497 - top_k_categorical_accuracy: 1.0000 - val_loss: 0.6118 - val_accuracy: 0.7062 - val_top_k_categorical_accuracy: 1.0000 - lr: 1.0000e-04\n",
      "Epoch 12/1000\n",
      "331/331 [==============================] - ETA: 0s - loss: 0.4386 - accuracy: 0.7688 - top_k_categorical_accuracy: 1.0000\n",
      "Epoch 12: val_loss improved from 0.61182 to 0.54547, saving model to D:\\OKPALA\\trained_model\\Breast_cancer_model_20241007-123948.keras\n",
      "331/331 [==============================] - 21s 63ms/step - loss: 0.4386 - accuracy: 0.7688 - top_k_categorical_accuracy: 1.0000 - val_loss: 0.5455 - val_accuracy: 0.7379 - val_top_k_categorical_accuracy: 1.0000 - lr: 1.0000e-04\n",
      "Epoch 13/1000\n",
      "331/331 [==============================] - ETA: 0s - loss: 0.4138 - accuracy: 0.7826 - top_k_categorical_accuracy: 1.0000\n",
      "Epoch 13: val_loss did not improve from 0.54547\n",
      "331/331 [==============================] - 21s 62ms/step - loss: 0.4138 - accuracy: 0.7826 - top_k_categorical_accuracy: 1.0000 - val_loss: 0.8186 - val_accuracy: 0.6964 - val_top_k_categorical_accuracy: 1.0000 - lr: 1.0000e-04\n",
      "Epoch 14/1000\n",
      "331/331 [==============================] - ETA: 0s - loss: 0.3932 - accuracy: 0.7921 - top_k_categorical_accuracy: 1.0000\n",
      "Epoch 14: val_loss improved from 0.54547 to 0.43154, saving model to D:\\OKPALA\\trained_model\\Breast_cancer_model_20241007-123948.keras\n",
      "331/331 [==============================] - 21s 64ms/step - loss: 0.3932 - accuracy: 0.7921 - top_k_categorical_accuracy: 1.0000 - val_loss: 0.4315 - val_accuracy: 0.7885 - val_top_k_categorical_accuracy: 1.0000 - lr: 1.0000e-04\n",
      "Epoch 15/1000\n",
      "331/331 [==============================] - ETA: 0s - loss: 0.3650 - accuracy: 0.8128 - top_k_categorical_accuracy: 1.0000\n",
      "Epoch 15: val_loss did not improve from 0.43154\n",
      "331/331 [==============================] - 21s 63ms/step - loss: 0.3650 - accuracy: 0.8128 - top_k_categorical_accuracy: 1.0000 - val_loss: 0.5155 - val_accuracy: 0.7530 - val_top_k_categorical_accuracy: 1.0000 - lr: 1.0000e-04\n",
      "Epoch 16/1000\n",
      "331/331 [==============================] - ETA: 0s - loss: 0.3376 - accuracy: 0.8287 - top_k_categorical_accuracy: 1.0000\n",
      "Epoch 16: val_loss did not improve from 0.43154\n",
      "331/331 [==============================] - 21s 63ms/step - loss: 0.3376 - accuracy: 0.8287 - top_k_categorical_accuracy: 1.0000 - val_loss: 0.4998 - val_accuracy: 0.7560 - val_top_k_categorical_accuracy: 1.0000 - lr: 1.0000e-04\n",
      "Epoch 17/1000\n",
      "331/331 [==============================] - ETA: 0s - loss: 0.3196 - accuracy: 0.8409 - top_k_categorical_accuracy: 1.0000\n",
      "Epoch 17: val_loss improved from 0.43154 to 0.37302, saving model to D:\\OKPALA\\trained_model\\Breast_cancer_model_20241007-123948.keras\n",
      "331/331 [==============================] - 21s 63ms/step - loss: 0.3196 - accuracy: 0.8409 - top_k_categorical_accuracy: 1.0000 - val_loss: 0.3730 - val_accuracy: 0.8202 - val_top_k_categorical_accuracy: 1.0000 - lr: 1.0000e-04\n",
      "Epoch 18/1000\n",
      "331/331 [==============================] - ETA: 0s - loss: 0.2961 - accuracy: 0.8540 - top_k_categorical_accuracy: 1.0000\n",
      "Epoch 18: val_loss did not improve from 0.37302\n",
      "331/331 [==============================] - 21s 63ms/step - loss: 0.2961 - accuracy: 0.8540 - top_k_categorical_accuracy: 1.0000 - val_loss: 0.4433 - val_accuracy: 0.8089 - val_top_k_categorical_accuracy: 1.0000 - lr: 1.0000e-04\n"
     ]
    },
    {
     "name": "stdout",
     "output_type": "stream",
     "text": [
      "Epoch 19/1000\n",
      "331/331 [==============================] - ETA: 0s - loss: 0.2842 - accuracy: 0.8653 - top_k_categorical_accuracy: 1.0000\n",
      "Epoch 19: val_loss improved from 0.37302 to 0.35749, saving model to D:\\OKPALA\\trained_model\\Breast_cancer_model_20241007-123948.keras\n",
      "331/331 [==============================] - 21s 64ms/step - loss: 0.2842 - accuracy: 0.8653 - top_k_categorical_accuracy: 1.0000 - val_loss: 0.3575 - val_accuracy: 0.8459 - val_top_k_categorical_accuracy: 1.0000 - lr: 1.0000e-04\n",
      "Epoch 20/1000\n",
      "331/331 [==============================] - ETA: 0s - loss: 0.2628 - accuracy: 0.8715 - top_k_categorical_accuracy: 1.0000\n",
      "Epoch 20: val_loss did not improve from 0.35749\n",
      "331/331 [==============================] - 21s 63ms/step - loss: 0.2628 - accuracy: 0.8715 - top_k_categorical_accuracy: 1.0000 - val_loss: 0.4601 - val_accuracy: 0.7915 - val_top_k_categorical_accuracy: 1.0000 - lr: 1.0000e-04\n",
      "Epoch 21/1000\n",
      "331/331 [==============================] - ETA: 0s - loss: 0.2471 - accuracy: 0.8771 - top_k_categorical_accuracy: 1.0000\n",
      "Epoch 21: val_loss did not improve from 0.35749\n",
      "331/331 [==============================] - 21s 63ms/step - loss: 0.2471 - accuracy: 0.8771 - top_k_categorical_accuracy: 1.0000 - val_loss: 0.4533 - val_accuracy: 0.8218 - val_top_k_categorical_accuracy: 1.0000 - lr: 1.0000e-04\n",
      "Epoch 22/1000\n",
      "331/331 [==============================] - ETA: 0s - loss: 0.2341 - accuracy: 0.8843 - top_k_categorical_accuracy: 1.0000\n",
      "Epoch 22: val_loss improved from 0.35749 to 0.35307, saving model to D:\\OKPALA\\trained_model\\Breast_cancer_model_20241007-123948.keras\n",
      "331/331 [==============================] - 21s 63ms/step - loss: 0.2341 - accuracy: 0.8843 - top_k_categorical_accuracy: 1.0000 - val_loss: 0.3531 - val_accuracy: 0.8489 - val_top_k_categorical_accuracy: 1.0000 - lr: 1.0000e-04\n",
      "Epoch 23/1000\n",
      "331/331 [==============================] - ETA: 0s - loss: 0.2199 - accuracy: 0.8911 - top_k_categorical_accuracy: 1.0000\n",
      "Epoch 23: val_loss improved from 0.35307 to 0.33666, saving model to D:\\OKPALA\\trained_model\\Breast_cancer_model_20241007-123948.keras\n",
      "331/331 [==============================] - 21s 63ms/step - loss: 0.2199 - accuracy: 0.8911 - top_k_categorical_accuracy: 1.0000 - val_loss: 0.3367 - val_accuracy: 0.8724 - val_top_k_categorical_accuracy: 1.0000 - lr: 1.0000e-04\n",
      "Epoch 24/1000\n",
      "331/331 [==============================] - ETA: 0s - loss: 0.2060 - accuracy: 0.8989 - top_k_categorical_accuracy: 1.0000\n",
      "Epoch 24: val_loss improved from 0.33666 to 0.32262, saving model to D:\\OKPALA\\trained_model\\Breast_cancer_model_20241007-123948.keras\n",
      "331/331 [==============================] - 21s 63ms/step - loss: 0.2060 - accuracy: 0.8989 - top_k_categorical_accuracy: 1.0000 - val_loss: 0.3226 - val_accuracy: 0.8580 - val_top_k_categorical_accuracy: 1.0000 - lr: 1.0000e-04\n",
      "Epoch 25/1000\n",
      "331/331 [==============================] - ETA: 0s - loss: 0.1954 - accuracy: 0.9046 - top_k_categorical_accuracy: 1.0000\n",
      "Epoch 25: val_loss improved from 0.32262 to 0.31754, saving model to D:\\OKPALA\\trained_model\\Breast_cancer_model_20241007-123948.keras\n",
      "331/331 [==============================] - 21s 63ms/step - loss: 0.1954 - accuracy: 0.9046 - top_k_categorical_accuracy: 1.0000 - val_loss: 0.3175 - val_accuracy: 0.8693 - val_top_k_categorical_accuracy: 1.0000 - lr: 1.0000e-04\n",
      "Epoch 26/1000\n",
      "331/331 [==============================] - ETA: 0s - loss: 0.1819 - accuracy: 0.9118 - top_k_categorical_accuracy: 1.0000\n",
      "Epoch 26: val_loss did not improve from 0.31754\n",
      "331/331 [==============================] - 21s 63ms/step - loss: 0.1819 - accuracy: 0.9118 - top_k_categorical_accuracy: 1.0000 - val_loss: 0.3333 - val_accuracy: 0.8784 - val_top_k_categorical_accuracy: 1.0000 - lr: 1.0000e-04\n",
      "Epoch 27/1000\n",
      "331/331 [==============================] - ETA: 0s - loss: 0.1810 - accuracy: 0.9121 - top_k_categorical_accuracy: 1.0000\n",
      "Epoch 27: val_loss did not improve from 0.31754\n",
      "331/331 [==============================] - 21s 63ms/step - loss: 0.1810 - accuracy: 0.9121 - top_k_categorical_accuracy: 1.0000 - val_loss: 0.3373 - val_accuracy: 0.8678 - val_top_k_categorical_accuracy: 1.0000 - lr: 1.0000e-04\n",
      "Epoch 28/1000\n",
      "331/331 [==============================] - ETA: 0s - loss: 0.1676 - accuracy: 0.9189 - top_k_categorical_accuracy: 1.0000\n",
      "Epoch 28: val_loss improved from 0.31754 to 0.30544, saving model to D:\\OKPALA\\trained_model\\Breast_cancer_model_20241007-123948.keras\n",
      "331/331 [==============================] - 21s 63ms/step - loss: 0.1676 - accuracy: 0.9189 - top_k_categorical_accuracy: 1.0000 - val_loss: 0.3054 - val_accuracy: 0.8807 - val_top_k_categorical_accuracy: 1.0000 - lr: 1.0000e-04\n",
      "Epoch 29/1000\n",
      "331/331 [==============================] - ETA: 0s - loss: 0.1579 - accuracy: 0.9233 - top_k_categorical_accuracy: 1.0000\n",
      "Epoch 29: val_loss improved from 0.30544 to 0.30008, saving model to D:\\OKPALA\\trained_model\\Breast_cancer_model_20241007-123948.keras\n",
      "331/331 [==============================] - 21s 63ms/step - loss: 0.1579 - accuracy: 0.9233 - top_k_categorical_accuracy: 1.0000 - val_loss: 0.3001 - val_accuracy: 0.8724 - val_top_k_categorical_accuracy: 1.0000 - lr: 1.0000e-04\n",
      "Epoch 30/1000\n",
      "331/331 [==============================] - ETA: 0s - loss: 0.1547 - accuracy: 0.9239 - top_k_categorical_accuracy: 1.0000\n",
      "Epoch 30: val_loss did not improve from 0.30008\n",
      "331/331 [==============================] - 21s 63ms/step - loss: 0.1547 - accuracy: 0.9239 - top_k_categorical_accuracy: 1.0000 - val_loss: 0.3440 - val_accuracy: 0.8686 - val_top_k_categorical_accuracy: 1.0000 - lr: 1.0000e-04\n",
      "Epoch 31/1000\n",
      "331/331 [==============================] - ETA: 0s - loss: 0.1439 - accuracy: 0.9291 - top_k_categorical_accuracy: 1.0000\n",
      "Epoch 31: val_loss did not improve from 0.30008\n",
      "331/331 [==============================] - 21s 63ms/step - loss: 0.1439 - accuracy: 0.9291 - top_k_categorical_accuracy: 1.0000 - val_loss: 0.3263 - val_accuracy: 0.8792 - val_top_k_categorical_accuracy: 1.0000 - lr: 1.0000e-04\n",
      "Epoch 32/1000\n",
      "331/331 [==============================] - ETA: 0s - loss: 0.1400 - accuracy: 0.9313 - top_k_categorical_accuracy: 1.0000\n",
      "Epoch 32: val_loss did not improve from 0.30008\n",
      "331/331 [==============================] - 21s 63ms/step - loss: 0.1400 - accuracy: 0.9313 - top_k_categorical_accuracy: 1.0000 - val_loss: 0.3232 - val_accuracy: 0.8769 - val_top_k_categorical_accuracy: 1.0000 - lr: 1.0000e-04\n",
      "Epoch 33/1000\n",
      "331/331 [==============================] - ETA: 0s - loss: 0.1393 - accuracy: 0.9326 - top_k_categorical_accuracy: 1.0000\n",
      "Epoch 33: val_loss did not improve from 0.30008\n",
      "331/331 [==============================] - 21s 63ms/step - loss: 0.1393 - accuracy: 0.9326 - top_k_categorical_accuracy: 1.0000 - val_loss: 0.4728 - val_accuracy: 0.8565 - val_top_k_categorical_accuracy: 1.0000 - lr: 1.0000e-04\n",
      "Epoch 34/1000\n",
      "331/331 [==============================] - ETA: 0s - loss: 0.1259 - accuracy: 0.9372 - top_k_categorical_accuracy: 1.0000\n",
      "Epoch 34: val_loss did not improve from 0.30008\n",
      "331/331 [==============================] - 21s 63ms/step - loss: 0.1259 - accuracy: 0.9372 - top_k_categorical_accuracy: 1.0000 - val_loss: 0.3500 - val_accuracy: 0.8875 - val_top_k_categorical_accuracy: 1.0000 - lr: 1.0000e-04\n",
      "Epoch 35/1000\n",
      "331/331 [==============================] - ETA: 0s - loss: 0.1101 - accuracy: 0.9450 - top_k_categorical_accuracy: 1.0000\n",
      "Epoch 35: val_loss did not improve from 0.30008\n",
      "331/331 [==============================] - 21s 63ms/step - loss: 0.1101 - accuracy: 0.9450 - top_k_categorical_accuracy: 1.0000 - val_loss: 0.3496 - val_accuracy: 0.8882 - val_top_k_categorical_accuracy: 1.0000 - lr: 1.0000e-05\n",
      "Epoch 36/1000\n",
      "331/331 [==============================] - ETA: 0s - loss: 0.1014 - accuracy: 0.9491 - top_k_categorical_accuracy: 1.0000\n",
      "Epoch 36: val_loss did not improve from 0.30008\n",
      "331/331 [==============================] - 21s 63ms/step - loss: 0.1014 - accuracy: 0.9491 - top_k_categorical_accuracy: 1.0000 - val_loss: 0.3522 - val_accuracy: 0.8882 - val_top_k_categorical_accuracy: 1.0000 - lr: 1.0000e-05\n",
      "Epoch 37/1000\n",
      "331/331 [==============================] - ETA: 0s - loss: 0.0976 - accuracy: 0.9495 - top_k_categorical_accuracy: 1.0000\n",
      "Epoch 37: val_loss did not improve from 0.30008\n"
     ]
    },
    {
     "name": "stdout",
     "output_type": "stream",
     "text": [
      "331/331 [==============================] - 21s 63ms/step - loss: 0.0976 - accuracy: 0.9495 - top_k_categorical_accuracy: 1.0000 - val_loss: 0.3635 - val_accuracy: 0.8860 - val_top_k_categorical_accuracy: 1.0000 - lr: 1.0000e-05\n",
      "Epoch 38/1000\n",
      "331/331 [==============================] - ETA: 0s - loss: 0.0983 - accuracy: 0.9478 - top_k_categorical_accuracy: 1.0000\n",
      "Epoch 38: val_loss did not improve from 0.30008\n",
      "331/331 [==============================] - 21s 63ms/step - loss: 0.0983 - accuracy: 0.9478 - top_k_categorical_accuracy: 1.0000 - val_loss: 0.3648 - val_accuracy: 0.8844 - val_top_k_categorical_accuracy: 1.0000 - lr: 1.0000e-05\n",
      "Epoch 39/1000\n",
      "331/331 [==============================] - ETA: 0s - loss: 0.0935 - accuracy: 0.9513 - top_k_categorical_accuracy: 1.0000\n",
      "Epoch 39: val_loss did not improve from 0.30008\n",
      "331/331 [==============================] - 21s 63ms/step - loss: 0.0935 - accuracy: 0.9513 - top_k_categorical_accuracy: 1.0000 - val_loss: 0.3611 - val_accuracy: 0.8822 - val_top_k_categorical_accuracy: 1.0000 - lr: 1.0000e-05\n",
      "Training Time: 0 hours, 15 minutes, and 22 seconds.\n",
      "This is the End!!!\n"
     ]
    }
   ],
   "source": [
    "import time\n",
    "\n",
    "# Start the timer\n",
    "start_time = time.time()\n",
    "\n",
    "# Training the model\n",
    "history = model.fit( \n",
    "    train_images, \n",
    "    train_labels,\n",
    "    # steps_per_epoch=steps_per_epoch,\n",
    "    epochs=1000,\n",
    "    validation_data=(valid_images, valid_labels),\n",
    "    # validation_steps=validation_steps,\n",
    "    callbacks=callbacks,\n",
    "    # class_weight = class_weights\n",
    ")\n",
    "\n",
    "# Stop the timer after training completes\n",
    "end_time = time.time()\n",
    "\n",
    "# Calculate the total training time\n",
    "training_time = end_time - start_time\n",
    "\n",
    "# Print the total training time in a human-readable format (hours, minutes, seconds)\n",
    "hours, rem = divmod(training_time, 3600)\n",
    "minutes, seconds = divmod(rem, 60)\n",
    "print(f\"Training Time: {int(hours)} hours, {int(minutes)} minutes, and {int(seconds)} seconds.\")\n",
    "\n",
    "print(\"This is the End!!!\")\n"
   ]
  },
  {
   "cell_type": "code",
   "execution_count": 53,
   "id": "e8cff7d9",
   "metadata": {},
   "outputs": [
    {
     "name": "stdout",
     "output_type": "stream",
     "text": [
      "42/42 [==============================] - 1s 23ms/step - loss: 0.3067 - accuracy: 0.9019 - top_k_categorical_accuracy: 1.0000\n"
     ]
    },
    {
     "data": {
      "text/plain": [
       "[0.306746244430542, 0.9018868207931519, 1.0]"
      ]
     },
     "execution_count": 53,
     "metadata": {},
     "output_type": "execute_result"
    }
   ],
   "source": [
    "model.evaluate(test_images, test_labels)"
   ]
  },
  {
   "cell_type": "code",
   "execution_count": null,
   "id": "8ed8e45f",
   "metadata": {},
   "outputs": [],
   "source": []
  }
 ],
 "metadata": {
  "kernelspec": {
   "display_name": "Python 3 (ipykernel)",
   "language": "python",
   "name": "python3"
  },
  "language_info": {
   "codemirror_mode": {
    "name": "ipython",
    "version": 3
   },
   "file_extension": ".py",
   "mimetype": "text/x-python",
   "name": "python",
   "nbconvert_exporter": "python",
   "pygments_lexer": "ipython3",
   "version": "3.11.7"
  }
 },
 "nbformat": 4,
 "nbformat_minor": 5
}
