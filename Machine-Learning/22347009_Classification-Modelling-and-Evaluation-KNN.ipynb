{
 "cells": [
  {
   "cell_type": "markdown",
   "id": "cc602aae",
   "metadata": {},
   "source": [
    "# Data cleaning"
   ]
  },
  {
   "cell_type": "code",
   "execution_count": 1,
   "id": "ee9a7764",
   "metadata": {},
   "outputs": [
    {
     "data": {
      "text/plain": [
       "(Index(['site', 'sid', 'leaktype'], dtype='object'),\n",
       " Index(['Unnamed: 0', 'ldate', 'lrate', 'llevel', '0HZ', '10HZ', '20HZ', '30HZ',\n",
       "        '40HZ', '50HZ',\n",
       "        ...\n",
       "        'MAX10', 'MAX11', 'MAX12', 'MAX13', 'MAX14', 'MAX15', 'MAX16', 'MAX17',\n",
       "        'MAX18', 'MAX19'],\n",
       "       dtype='object', length=537),\n",
       " Index(['Unnamed: 0', 'site', 'sid', 'ldate', 'lrate', 'llevel', 'leaktype',\n",
       "        '0HZ', '10HZ', '20HZ',\n",
       "        ...\n",
       "        'MAX10', 'MAX11', 'MAX12', 'MAX13', 'MAX14', 'MAX15', 'MAX16', 'MAX17',\n",
       "        'MAX18', 'MAX19'],\n",
       "       dtype='object', length=540))"
      ]
     },
     "execution_count": 1,
     "metadata": {},
     "output_type": "execute_result"
    }
   ],
   "source": [
    "# We will start by loading and inspecting the training and testing datasets to understand their structure.\n",
    "import pandas as pd\n",
    "\n",
    "# File paths\n",
    "training_data_path = 'Classification_training_data.csv'\n",
    "testing_data_path = 'Classification_testing_data.csv'\n",
    "\n",
    "# Loading the datasets\n",
    "training_data = pd.read_csv(training_data_path)\n",
    "testing_data = pd.read_csv(testing_data_path)\n",
    "\n",
    "# Displaying the first few rows of each dataset for inspection\n",
    "training_data.head(), testing_data.head()\n",
    "# Data Pre-processing: Step 1 - Data Cleaning\n",
    "\n",
    "# Checking for missing values in the training and testing datasets\n",
    "missing_values_train = training_data.isnull().sum()\n",
    "missing_values_test = testing_data.isnull().sum()\n",
    "\n",
    "# Displaying the number of missing values in each column (if any)\n",
    "missing_values_train_summary = missing_values_train[missing_values_train > 0]\n",
    "missing_values_test_summary = missing_values_test[missing_values_test > 0]\n",
    "missing_values_train_summary, missing_values_test_summary\n",
    "# Data Pre-processing: Step 2 - Feature Selection\n",
    "\n",
    "# Inspecting the columns to identify irrelevant or redundant features\n",
    "columns = training_data.columns\n",
    "\n",
    "# Identifying categorical and numerical columns\n",
    "categorical_columns = training_data.select_dtypes(include=['object']).columns\n",
    "numerical_columns = training_data.select_dtypes(exclude=['object']).columns\n",
    "\n",
    "# Displaying the categorical and numerical columns\n",
    "categorical_columns, numerical_columns, columns\n"
   ]
  },
  {
   "cell_type": "markdown",
   "id": "c8c1cdc7",
   "metadata": {},
   "source": [
    "# Feature selection"
   ]
  },
  {
   "cell_type": "code",
   "execution_count": 2,
   "id": "87987d11",
   "metadata": {},
   "outputs": [
    {
     "data": {
      "text/plain": [
       "((48, 2200), (42, 1427))"
      ]
     },
     "execution_count": 2,
     "metadata": {},
     "output_type": "execute_result"
    }
   ],
   "source": [
    "# Data Pre-processing: Feature Selection - Removing and Assessing Columns\n",
    "\n",
    "# Removing 'Unnamed: 0' column\n",
    "training_data = training_data.drop('Unnamed: 0', axis=1)\n",
    "testing_data = testing_data.drop('Unnamed: 0', axis=1)\n",
    "\n",
    "# Assessing the number of unique values in 'site' and 'sid' columns\n",
    "unique_sites_train = training_data['site'].nunique()\n",
    "unique_sids_train = training_data['sid'].nunique()\n",
    "\n",
    "unique_sites_test = testing_data['site'].nunique()\n",
    "unique_sids_test = testing_data['sid'].nunique()\n",
    "\n",
    "(unique_sites_train, unique_sids_train), (unique_sites_test, unique_sids_test)\n"
   ]
  },
  {
   "cell_type": "markdown",
   "id": "51116bb0",
   "metadata": {},
   "source": [
    "# Designing the classification model"
   ]
  },
  {
   "cell_type": "code",
   "execution_count": 3,
   "id": "f009b3b7",
   "metadata": {},
   "outputs": [
    {
     "data": {
      "text/html": [
       "<style>#sk-container-id-1 {color: black;}#sk-container-id-1 pre{padding: 0;}#sk-container-id-1 div.sk-toggleable {background-color: white;}#sk-container-id-1 label.sk-toggleable__label {cursor: pointer;display: block;width: 100%;margin-bottom: 0;padding: 0.3em;box-sizing: border-box;text-align: center;}#sk-container-id-1 label.sk-toggleable__label-arrow:before {content: \"▸\";float: left;margin-right: 0.25em;color: #696969;}#sk-container-id-1 label.sk-toggleable__label-arrow:hover:before {color: black;}#sk-container-id-1 div.sk-estimator:hover label.sk-toggleable__label-arrow:before {color: black;}#sk-container-id-1 div.sk-toggleable__content {max-height: 0;max-width: 0;overflow: hidden;text-align: left;background-color: #f0f8ff;}#sk-container-id-1 div.sk-toggleable__content pre {margin: 0.2em;color: black;border-radius: 0.25em;background-color: #f0f8ff;}#sk-container-id-1 input.sk-toggleable__control:checked~div.sk-toggleable__content {max-height: 200px;max-width: 100%;overflow: auto;}#sk-container-id-1 input.sk-toggleable__control:checked~label.sk-toggleable__label-arrow:before {content: \"▾\";}#sk-container-id-1 div.sk-estimator input.sk-toggleable__control:checked~label.sk-toggleable__label {background-color: #d4ebff;}#sk-container-id-1 div.sk-label input.sk-toggleable__control:checked~label.sk-toggleable__label {background-color: #d4ebff;}#sk-container-id-1 input.sk-hidden--visually {border: 0;clip: rect(1px 1px 1px 1px);clip: rect(1px, 1px, 1px, 1px);height: 1px;margin: -1px;overflow: hidden;padding: 0;position: absolute;width: 1px;}#sk-container-id-1 div.sk-estimator {font-family: monospace;background-color: #f0f8ff;border: 1px dotted black;border-radius: 0.25em;box-sizing: border-box;margin-bottom: 0.5em;}#sk-container-id-1 div.sk-estimator:hover {background-color: #d4ebff;}#sk-container-id-1 div.sk-parallel-item::after {content: \"\";width: 100%;border-bottom: 1px solid gray;flex-grow: 1;}#sk-container-id-1 div.sk-label:hover label.sk-toggleable__label {background-color: #d4ebff;}#sk-container-id-1 div.sk-serial::before {content: \"\";position: absolute;border-left: 1px solid gray;box-sizing: border-box;top: 0;bottom: 0;left: 50%;z-index: 0;}#sk-container-id-1 div.sk-serial {display: flex;flex-direction: column;align-items: center;background-color: white;padding-right: 0.2em;padding-left: 0.2em;position: relative;}#sk-container-id-1 div.sk-item {position: relative;z-index: 1;}#sk-container-id-1 div.sk-parallel {display: flex;align-items: stretch;justify-content: center;background-color: white;position: relative;}#sk-container-id-1 div.sk-item::before, #sk-container-id-1 div.sk-parallel-item::before {content: \"\";position: absolute;border-left: 1px solid gray;box-sizing: border-box;top: 0;bottom: 0;left: 50%;z-index: -1;}#sk-container-id-1 div.sk-parallel-item {display: flex;flex-direction: column;z-index: 1;position: relative;background-color: white;}#sk-container-id-1 div.sk-parallel-item:first-child::after {align-self: flex-end;width: 50%;}#sk-container-id-1 div.sk-parallel-item:last-child::after {align-self: flex-start;width: 50%;}#sk-container-id-1 div.sk-parallel-item:only-child::after {width: 0;}#sk-container-id-1 div.sk-dashed-wrapped {border: 1px dashed gray;margin: 0 0.4em 0.5em 0.4em;box-sizing: border-box;padding-bottom: 0.4em;background-color: white;}#sk-container-id-1 div.sk-label label {font-family: monospace;font-weight: bold;display: inline-block;line-height: 1.2em;}#sk-container-id-1 div.sk-label-container {text-align: center;}#sk-container-id-1 div.sk-container {/* jupyter's `normalize.less` sets `[hidden] { display: none; }` but bootstrap.min.css set `[hidden] { display: none !important; }` so we also need the `!important` here to be able to override the default hidden behavior on the sphinx rendered scikit-learn.org. See: https://github.com/scikit-learn/scikit-learn/issues/21755 */display: inline-block !important;position: relative;}#sk-container-id-1 div.sk-text-repr-fallback {display: none;}</style><div id=\"sk-container-id-1\" class=\"sk-top-container\"><div class=\"sk-text-repr-fallback\"><pre>KNeighborsClassifier()</pre><b>In a Jupyter environment, please rerun this cell to show the HTML representation or trust the notebook. <br />On GitHub, the HTML representation is unable to render, please try loading this page with nbviewer.org.</b></div><div class=\"sk-container\" hidden><div class=\"sk-item\"><div class=\"sk-estimator sk-toggleable\"><input class=\"sk-toggleable__control sk-hidden--visually\" id=\"sk-estimator-id-1\" type=\"checkbox\" checked><label for=\"sk-estimator-id-1\" class=\"sk-toggleable__label sk-toggleable__label-arrow\">KNeighborsClassifier</label><div class=\"sk-toggleable__content\"><pre>KNeighborsClassifier()</pre></div></div></div></div></div>"
      ],
      "text/plain": [
       "KNeighborsClassifier()"
      ]
     },
     "execution_count": 3,
     "metadata": {},
     "output_type": "execute_result"
    }
   ],
   "source": [
    "from sklearn.neighbors import KNeighborsClassifier\n",
    "from sklearn.model_selection import cross_val_score\n",
    "from sklearn.preprocessing import StandardScaler\n",
    "import numpy as np\n",
    "# Data Pre-processing: Removing 'sid' and Handling Categorical Data\n",
    "# Removing 'sid' column\n",
    "training_data = training_data.drop('sid', axis=1)\n",
    "testing_data = testing_data.drop('sid', axis=1)\n",
    "# Converting 'site' to numerical format using one-hot encoding\n",
    "training_data = pd.get_dummies(training_data, columns=['site'])\n",
    "testing_data = pd.get_dummies(testing_data, columns=['site'])\n",
    "# Ensuring that both datasets have the same set of columns after one-hot encoding\n",
    "training_data, testing_data = training_data.align(testing_data, join='inner', axis=1)\n",
    "# Separating features and target variable\n",
    "X_train = training_data.drop('leaktype', axis=1)\n",
    "y_train = training_data['leaktype']\n",
    "X_test = testing_data.drop('leaktype', axis=1)\n",
    "y_test = testing_data['leaktype']\n",
    "# Standardizing the features\n",
    "scaler = StandardScaler()\n",
    "X_train_scaled = scaler.fit_transform(X_train)\n",
    "X_test_scaled = scaler.transform(X_test)\n",
    "# Displaying the shape of the processed datasets to confirm successful transformation\n",
    "X_train_scaled.shape, X_test_scaled.shape, y_train.shape, y_test.shape\n",
    "# Range of 'k' values to try for finding the optimal 'k'\n",
    "k_values = range(1, 11)\n",
    "# Dictionary to store cross-validation scores for each 'k'\n",
    "cv_scores = {}\n",
    "# Performing cross-validation for each value of 'k'\n",
    "for k in k_values:\n",
    "    knn = KNeighborsClassifier(n_neighbors=k)\n",
    "    scores = cross_val_score(knn, X_train_scaled, y_train, cv=5, scoring='accuracy')\n",
    "    cv_scores[k] = np.mean(scores)\n",
    "# Finding the optimal 'k' with the highest cross-validation accuracy\n",
    "best_k = max(cv_scores, key=cv_scores.get)\n",
    "best_score = cv_scores[best_k]\n",
    "best_k, best_score\n",
    "# Initializing the KNN classifier with k = 5\n",
    "knn_default = KNeighborsClassifier(n_neighbors=5)\n",
    "# Training the model on the entire training dataset\n",
    "knn_default.fit(X_train_scaled, y_train)\n"
   ]
  },
  {
   "cell_type": "markdown",
   "id": "d9b5f33d",
   "metadata": {},
   "source": [
    "# Model Evaluation"
   ]
  },
  {
   "cell_type": "code",
   "execution_count": 4,
   "id": "ec1af11c",
   "metadata": {},
   "outputs": [
    {
     "data": {
      "image/png": "[encoded data removed]",
      "text/plain": [
       "<Figure size 1000x700 with 2 Axes>"
      ]
     },
     "metadata": {},
     "output_type": "display_data"
    },
    {
     "name": "stdout",
     "output_type": "stream",
     "text": [
      "Accuracy: 92.42%\n",
      "Precision: ['91.07%', '90.29%', '99.30%', '90.37%', '91.10%']\n",
      "Recall: ['88.70%', '94.90%', '99.40%', '90.10%', '89.00%']\n"
     ]
    }
   ],
   "source": [
    "import matplotlib.pyplot as plt\n",
    "import seaborn as sns\n",
    "import numpy as np\n",
    "# Model Evaluation: Batch Prediction Approach\n",
    "y_pred = knn_default.predict(X_test_scaled)\n",
    "def batch_predict(classifier, X, batch_size=500):\n",
    "    \"\"\"Predict labels in batches to avoid memory issues.\"\"\"\n",
    "    num_samples = X.shape[0]\n",
    "    predictions = np.empty(num_samples, dtype=object)\n",
    "    for start in range(0, num_samples, batch_size):\n",
    "        end = start + batch_size\n",
    "        batch_predictions = classifier.predict(X[start:end])\n",
    "        predictions[start:end] = batch_predictions\n",
    "    return predictions\n",
    "# Performing batch predictions on the testing dataset\n",
    "y_pred_batch = batch_predict(knn_default, X_test_scaled)\n",
    "# Defining the confusion_matrix function\n",
    "def confusion_matrix(actual, predicted):\n",
    "    classes = np.unique(actual)\n",
    "    matrix = np.zeros((len(classes), len(classes)), dtype=np.int64)\n",
    "    for i in range(len(classes)):\n",
    "        for j in range(len(classes)):\n",
    "            matrix[i, j] = np.sum((actual == classes[i]) & (predicted == classes[j]))\n",
    "    return matrix\n",
    "#Function to calculate accuracy, precision, and recall from the confusion matrix\n",
    "def performance_metrics(cm):\n",
    "    # Accuracy\n",
    "    accuracy = np.trace(cm) / np.sum(cm)\n",
    "    # Precision and Recall for each class\n",
    "    precision = np.diag(cm) / np.sum(cm, axis=0)\n",
    "    recall = np.diag(cm) / np.sum(cm, axis=1)\n",
    "    return accuracy, precision, recall\n",
    "# Calculating the confusion matrix and performance metrics using the batch predictions\n",
    "cm_batch = confusion_matrix(y_test, y_pred_batch)\n",
    "accuracy_batch, precision_batch, recall_batch = performance_metrics(cm_batch)\n",
    "# Function to plot the confusion matrix\n",
    "def plot_confusion_matrix(cm, classes):\n",
    "    plt.figure(figsize=(10, 7))\n",
    "    sns.heatmap(cm, annot=True, fmt='d', cmap='Blues', xticklabels=classes, yticklabels=classes)\n",
    "    plt.title('Confusion Matrix')\n",
    "    plt.ylabel('True Label')\n",
    "    plt.xlabel('Predicted Label')\n",
    "    plt.show()\n",
    "# Plotting the confusion matrix\n",
    "plot_confusion_matrix(cm_batch, classes=np.unique(y_test))\n",
    "# Printing accuracy, precision, and recall in percentages\n",
    "print(\"Accuracy: {:.2f}%\".format(accuracy_batch * 100))\n",
    "print(\"Precision: {}\".format([\"{:.2f}%\".format(p * 100) for p in precision_batch]))\n",
    "print(\"Recall: {}\".format([\"{:.2f}%\".format(r * 100) for r in recall_batch]))\n",
    "\n"
   ]
  },
  {
   "cell_type": "code",
   "execution_count": null,
   "id": "072a9386",
   "metadata": {},
   "outputs": [],
   "source": []
  }
 ],
 "metadata": {
  "kernelspec": {
   "display_name": "Python 3 (ipykernel)",
   "language": "python",
   "name": "python3"
  },
  "language_info": {
   "codemirror_mode": {
    "name": "ipython",
    "version": 3
   },
   "file_extension": ".py",
   "mimetype": "text/x-python",
   "name": "python",
   "nbconvert_exporter": "python",
   "pygments_lexer": "ipython3",
   "version": "3.11.7"
  }
 },
 "nbformat": 4,
 "nbformat_minor": 5
}
